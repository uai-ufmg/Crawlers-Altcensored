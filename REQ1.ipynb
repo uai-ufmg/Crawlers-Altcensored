{
 "cells": [
  {
   "cell_type": "code",
   "execution_count": 1,
   "source": [
    "import numpy as np\r\n",
    "import pandas as pd\r\n",
    "import matplotlib.pyplot as plt\r\n",
    "import seaborn as sns"
   ],
   "outputs": [],
   "metadata": {}
  },
  {
   "cell_type": "code",
   "execution_count": 2,
   "source": [
    "#entity = video \r\n",
    "#source = channels \r\n",
    "#content =  Ligação entre Canal  x  Video\r\n",
    "\r\n",
    "entity_trim = pd.read_csv(\"csv's/entity_trim.csv\")\r\n",
    "source_trim = pd.read_csv(\"csv's/source_trim.csv\")\r\n",
    "content = pd.read_csv(\"csv's/content.csv\")"
   ],
   "outputs": [],
   "metadata": {}
  },
  {
   "cell_type": "code",
   "execution_count": 3,
   "source": [
    "aux = content[content.duplicated(['video_id'])]\r\n",
    "print(\"Content tem essa quantia de video_id duplicadas : \", aux.size)"
   ],
   "outputs": [
    {
     "output_type": "stream",
     "name": "stdout",
     "text": [
      "Content tem essa quantia de video_id duplicadas :  84\n"
     ]
    }
   ],
   "metadata": {}
  },
  {
   "cell_type": "code",
   "execution_count": 4,
   "source": [
    "print(\"Entity_trim tem tamanho: \", entity_trim.size)\r\n",
    "print(\"Source_trim tem tamanho: \", source_trim.size)\r\n",
    "print(\"Content tem tamanho: \", content.size)"
   ],
   "outputs": [
    {
     "output_type": "stream",
     "name": "stdout",
     "text": [
      "Entity_trim tem tamanho:  17289696\n",
      "Source_trim tem tamanho:  74784\n",
      "Content tem tamanho:  2833696\n"
     ]
    }
   ],
   "metadata": {}
  },
  {
   "cell_type": "code",
   "execution_count": 5,
   "source": [
    "source_trim.head()"
   ],
   "outputs": [
    {
     "output_type": "execute_result",
     "data": {
      "text/html": [
       "<div>\n",
       "<style scoped>\n",
       "    .dataframe tbody tr th:only-of-type {\n",
       "        vertical-align: middle;\n",
       "    }\n",
       "\n",
       "    .dataframe tbody tr th {\n",
       "        vertical-align: top;\n",
       "    }\n",
       "\n",
       "    .dataframe thead th {\n",
       "        text-align: right;\n",
       "    }\n",
       "</style>\n",
       "<table border=\"1\" class=\"dataframe\">\n",
       "  <thead>\n",
       "    <tr style=\"text-align: right;\">\n",
       "      <th></th>\n",
       "      <th>id</th>\n",
       "      <th>ytc_id</th>\n",
       "      <th>ytc_publishedat</th>\n",
       "      <th>ytc_viewcount</th>\n",
       "      <th>ytc_subscribercount</th>\n",
       "      <th>ytc_videocount</th>\n",
       "      <th>ytc_deleteddate</th>\n",
       "      <th>ytc_archive</th>\n",
       "    </tr>\n",
       "  </thead>\n",
       "  <tbody>\n",
       "    <tr>\n",
       "      <th>0</th>\n",
       "      <td>50292</td>\n",
       "      <td>UC59Cpk70K2TwdmApJOTuW9g</td>\n",
       "      <td>2017-12-21</td>\n",
       "      <td>5041092</td>\n",
       "      <td>13403</td>\n",
       "      <td>857</td>\n",
       "      <td>2019-09-13</td>\n",
       "      <td>f</td>\n",
       "    </tr>\n",
       "    <tr>\n",
       "      <th>1</th>\n",
       "      <td>362439</td>\n",
       "      <td>UC11KAfd3pxCnbMplC_MJVrg</td>\n",
       "      <td>2017-06-30</td>\n",
       "      <td>75</td>\n",
       "      <td>85</td>\n",
       "      <td>1</td>\n",
       "      <td>-</td>\n",
       "      <td>f</td>\n",
       "    </tr>\n",
       "    <tr>\n",
       "      <th>2</th>\n",
       "      <td>366024</td>\n",
       "      <td>UCycrtu8IvsjQ7hRo-UEZB9Q</td>\n",
       "      <td>2013-06-26</td>\n",
       "      <td>23437</td>\n",
       "      <td>77</td>\n",
       "      <td>15</td>\n",
       "      <td>-</td>\n",
       "      <td>f</td>\n",
       "    </tr>\n",
       "    <tr>\n",
       "      <th>3</th>\n",
       "      <td>1238492</td>\n",
       "      <td>UCdgXvWsnupMtXhaZ_XDg4Wg</td>\n",
       "      <td>2020-06-25</td>\n",
       "      <td>35657</td>\n",
       "      <td>412</td>\n",
       "      <td>23</td>\n",
       "      <td>2021-03-02</td>\n",
       "      <td>f</td>\n",
       "    </tr>\n",
       "    <tr>\n",
       "      <th>4</th>\n",
       "      <td>1260061</td>\n",
       "      <td>UC2nYTF27KjgjC1XtYc2m0Hw</td>\n",
       "      <td>2012-01-27</td>\n",
       "      <td>1936977</td>\n",
       "      <td>1410</td>\n",
       "      <td>111</td>\n",
       "      <td>-</td>\n",
       "      <td>f</td>\n",
       "    </tr>\n",
       "  </tbody>\n",
       "</table>\n",
       "</div>"
      ],
      "text/plain": [
       "        id                    ytc_id ytc_publishedat  ytc_viewcount  \\\n",
       "0    50292  UC59Cpk70K2TwdmApJOTuW9g      2017-12-21        5041092   \n",
       "1   362439  UC11KAfd3pxCnbMplC_MJVrg      2017-06-30             75   \n",
       "2   366024  UCycrtu8IvsjQ7hRo-UEZB9Q      2013-06-26          23437   \n",
       "3  1238492  UCdgXvWsnupMtXhaZ_XDg4Wg      2020-06-25          35657   \n",
       "4  1260061  UC2nYTF27KjgjC1XtYc2m0Hw      2012-01-27        1936977   \n",
       "\n",
       "  ytc_subscribercount  ytc_videocount ytc_deleteddate ytc_archive  \n",
       "0               13403             857      2019-09-13           f  \n",
       "1                  85               1               -           f  \n",
       "2                  77              15               -           f  \n",
       "3                 412              23      2021-03-02           f  \n",
       "4                1410             111               -           f  "
      ]
     },
     "metadata": {},
     "execution_count": 5
    }
   ],
   "metadata": {}
  },
  {
   "cell_type": "code",
   "execution_count": 6,
   "source": [
    "entity_trim.head()"
   ],
   "outputs": [
    {
     "output_type": "execute_result",
     "data": {
      "text/html": [
       "<div>\n",
       "<style scoped>\n",
       "    .dataframe tbody tr th:only-of-type {\n",
       "        vertical-align: middle;\n",
       "    }\n",
       "\n",
       "    .dataframe tbody tr th {\n",
       "        vertical-align: top;\n",
       "    }\n",
       "\n",
       "    .dataframe thead th {\n",
       "        text-align: right;\n",
       "    }\n",
       "</style>\n",
       "<table border=\"1\" class=\"dataframe\">\n",
       "  <thead>\n",
       "    <tr style=\"text-align: right;\">\n",
       "      <th></th>\n",
       "      <th>id</th>\n",
       "      <th>extractor_data</th>\n",
       "      <th>views</th>\n",
       "      <th>likes</th>\n",
       "      <th>dislikes</th>\n",
       "      <th>yt_comments</th>\n",
       "      <th>yt_views</th>\n",
       "      <th>yt_dislikes</th>\n",
       "      <th>yt_likes</th>\n",
       "      <th>published</th>\n",
       "      <th>yt_deleted</th>\n",
       "      <th>sync_iadate</th>\n",
       "    </tr>\n",
       "  </thead>\n",
       "  <tbody>\n",
       "    <tr>\n",
       "      <th>0</th>\n",
       "      <td>1197059</td>\n",
       "      <td>qHLarig0KJ0</td>\n",
       "      <td>10682</td>\n",
       "      <td>766</td>\n",
       "      <td>13</td>\n",
       "      <td>174</td>\n",
       "      <td>10682</td>\n",
       "      <td>13</td>\n",
       "      <td>766</td>\n",
       "      <td>2020-03-24 00:00:00</td>\n",
       "      <td>-</td>\n",
       "      <td>2020-12-31 13:56:58.788461</td>\n",
       "    </tr>\n",
       "    <tr>\n",
       "      <th>1</th>\n",
       "      <td>237342</td>\n",
       "      <td>aVwZ4KuUBDY</td>\n",
       "      <td>728</td>\n",
       "      <td>3</td>\n",
       "      <td>29</td>\n",
       "      <td>19</td>\n",
       "      <td>728</td>\n",
       "      <td>29</td>\n",
       "      <td>3</td>\n",
       "      <td>2018-10-03 00:00:00</td>\n",
       "      <td>f</td>\n",
       "      <td>2021-03-07 00:10:19.938207</td>\n",
       "    </tr>\n",
       "    <tr>\n",
       "      <th>2</th>\n",
       "      <td>237354</td>\n",
       "      <td>0_hMK-CGXT0</td>\n",
       "      <td>3592</td>\n",
       "      <td>60</td>\n",
       "      <td>11</td>\n",
       "      <td>195</td>\n",
       "      <td>3593</td>\n",
       "      <td>11</td>\n",
       "      <td>60</td>\n",
       "      <td>2018-09-24 00:00:00</td>\n",
       "      <td>f</td>\n",
       "      <td>2021-03-07 00:10:27.945858</td>\n",
       "    </tr>\n",
       "    <tr>\n",
       "      <th>3</th>\n",
       "      <td>1197516</td>\n",
       "      <td>-3efVNTbn7w</td>\n",
       "      <td>3092</td>\n",
       "      <td>26</td>\n",
       "      <td>2</td>\n",
       "      <td>2</td>\n",
       "      <td>3092</td>\n",
       "      <td>1</td>\n",
       "      <td>26</td>\n",
       "      <td>2012-12-24 00:00:00</td>\n",
       "      <td>-</td>\n",
       "      <td>2020-12-31 14:25:37.632941</td>\n",
       "    </tr>\n",
       "    <tr>\n",
       "      <th>4</th>\n",
       "      <td>1283063</td>\n",
       "      <td>YzcxZ-ng2ZM</td>\n",
       "      <td>2162</td>\n",
       "      <td>55</td>\n",
       "      <td>1</td>\n",
       "      <td>2</td>\n",
       "      <td>2162</td>\n",
       "      <td>1</td>\n",
       "      <td>55</td>\n",
       "      <td>2019-07-14 00:00:00</td>\n",
       "      <td>-</td>\n",
       "      <td>2021-03-07 13:15:47.328849</td>\n",
       "    </tr>\n",
       "  </tbody>\n",
       "</table>\n",
       "</div>"
      ],
      "text/plain": [
       "        id extractor_data  views likes dislikes yt_comments yt_views  \\\n",
       "0  1197059    qHLarig0KJ0  10682   766       13         174    10682   \n",
       "1   237342    aVwZ4KuUBDY    728     3       29          19      728   \n",
       "2   237354    0_hMK-CGXT0   3592    60       11         195     3593   \n",
       "3  1197516    -3efVNTbn7w   3092    26        2           2     3092   \n",
       "4  1283063    YzcxZ-ng2ZM   2162    55        1           2     2162   \n",
       "\n",
       "  yt_dislikes yt_likes            published yt_deleted  \\\n",
       "0          13      766  2020-03-24 00:00:00          -   \n",
       "1          29        3  2018-10-03 00:00:00          f   \n",
       "2          11       60  2018-09-24 00:00:00          f   \n",
       "3           1       26  2012-12-24 00:00:00          -   \n",
       "4           1       55  2019-07-14 00:00:00          -   \n",
       "\n",
       "                  sync_iadate  \n",
       "0  2020-12-31 13:56:58.788461  \n",
       "1  2021-03-07 00:10:19.938207  \n",
       "2  2021-03-07 00:10:27.945858  \n",
       "3  2020-12-31 14:25:37.632941  \n",
       "4  2021-03-07 13:15:47.328849  "
      ]
     },
     "metadata": {},
     "execution_count": 6
    }
   ],
   "metadata": {}
  },
  {
   "cell_type": "code",
   "execution_count": 7,
   "source": [
    "source_trim['ytc_viewcount'].max()"
   ],
   "outputs": [
    {
     "output_type": "execute_result",
     "data": {
      "text/plain": [
       "2139768433"
      ]
     },
     "metadata": {},
     "execution_count": 7
    }
   ],
   "metadata": {}
  },
  {
   "cell_type": "code",
   "execution_count": 8,
   "source": [
    "source_trim['ytc_subscribercount'].max()"
   ],
   "outputs": [
    {
     "output_type": "execute_result",
     "data": {
      "text/plain": [
       "'999000'"
      ]
     },
     "metadata": {},
     "execution_count": 8
    }
   ],
   "metadata": {}
  },
  {
   "cell_type": "code",
   "execution_count": 9,
   "source": [
    "plt.rcParams['axes.labelsize']  = 10 # fontes no tamanho usado no template\r\n",
    "plt.rcParams['axes.titlesize']  = 10\r\n",
    "plt.rcParams['legend.fontsize'] = 10\r\n",
    "plt.rcParams['xtick.labelsize'] = 10\r\n",
    "plt.rcParams['ytick.labelsize'] = 10\r\n",
    "plt.rcParams['font.family'] = 'serif'\r\n",
    "# plt.rcParams['text.usetex'] = True\r\n",
    "plt.rcParams['lines.linewidth'] = 2"
   ],
   "outputs": [],
   "metadata": {}
  },
  {
   "cell_type": "code",
   "execution_count": 10,
   "source": [
    "plt.style.use('tableau-colorblind10') # use um estilo colorblind!\r\n",
    "plt.ion()"
   ],
   "outputs": [
    {
     "output_type": "execute_result",
     "data": {
      "text/plain": [
       "<matplotlib.pyplot._IonContext at 0x1a3155c7cd0>"
      ]
     },
     "metadata": {},
     "execution_count": 10
    }
   ],
   "metadata": {}
  },
  {
   "cell_type": "code",
   "execution_count": 11,
   "source": [
    "fig, ax = plt.subplots(1, 1, figsize=(3.3 * 1.65, 3.3))\r\n",
    "ax.hist(source_trim[\"ytc_viewcount\"], range=[0, 100000], bins=150,edgecolor='k')\r\n",
    "ax.set(xlabel='Número de views', ylabel='Quantidade de canais')\r\n",
    "fig.tight_layout()\r\n",
    "sns.despine()\r\n",
    "plt.savefig('Histograma de views por canal.pdf')"
   ],
   "outputs": [
    {
     "output_type": "display_data",
     "data": {
      "image/png": "[encoded data removed]",
      "text/plain": [
       "<Figure size 392.04x237.6 with 1 Axes>"
      ]
     },
     "metadata": {
      "needs_background": "light"
     }
    }
   ],
   "metadata": {}
  },
  {
   "cell_type": "code",
   "execution_count": 12,
   "source": [
    "fig, ax = plt.subplots(1, 1, figsize=(7, 3.3 * 1.65))\r\n",
    "ax.hist(source_trim[\"ytc_viewcount\"], range=[0, 200000], bins=150,edgecolor='k')\r\n",
    "ax.set(xlabel='Número de views', ylabel='Quantidade de canais')\r\n",
    "fig.tight_layout()\r\n",
    "sns.despine()\r\n",
    "plt.savefig('Histograma de views por canal - Uma página de largura.pdf')"
   ],
   "outputs": [
    {
     "output_type": "display_data",
     "data": {
      "image/png": "[encoded data removed]",
      "text/plain": [
       "<Figure size 504x392.04 with 1 Axes>"
      ]
     },
     "metadata": {
      "needs_background": "light"
     }
    }
   ],
   "metadata": {}
  },
  {
   "cell_type": "code",
   "execution_count": 13,
   "source": [
    "X2 = np.sort(source_trim[\"ytc_viewcount\"])\r\n",
    "F2 = np.array(range(source_trim[\"ytc_viewcount\"].size))/float(source_trim[\"ytc_viewcount\"].size)\r\n",
    "\r\n",
    "fig, ax = plt.subplots(1, 1, figsize=(3.3 * 1.65, 3.3))\r\n",
    "ax.plot(X2, F2)\r\n",
    "ax.set(xlabel = '# of channels',\r\n",
    "       ylabel = 'P[X > x]',\r\n",
    "       xscale = 'log')\r\n",
    "fig.tight_layout()\r\n",
    "sns.despine()\r\n",
    "plt.savefig(\"CDF de views por canal.pdf\")"
   ],
   "outputs": [
    {
     "output_type": "display_data",
     "data": {
      "image/png": "[encoded data removed]",
      "text/plain": [
       "<Figure size 392.04x237.6 with 1 Axes>"
      ]
     },
     "metadata": {
      "needs_background": "light"
     }
    }
   ],
   "metadata": {}
  },
  {
   "cell_type": "code",
   "execution_count": 17,
   "source": [
    "#Aparentemente os valores de números de inscritos estão de sobrescrevendo, não encontrei uma solução no stack overflow\r\n",
    "\r\n",
    "\r\n",
    "fig, ax = plt.subplots(1, 1, figsize=(3.3 * 1.65, 3.3))\r\n",
    "ax.hist(source_trim[\"ytc_subscribercount\"], range=[0, 1500], bins=150, edgecolor='k')\r\n",
    "ax.set(xlabel='Número de inscritos', ylabel='Quantidade de canais')\r\n",
    "fig.tight_layout()\r\n",
    "sns.despine()\r\n",
    "plt.savefig('Histograma de inscritos por canal.pdf')"
   ],
   "outputs": [
    {
     "output_type": "display_data",
     "data": {
      "image/png": "[encoded data removed]",
      "text/plain": [
       "<Figure size 392.04x237.6 with 1 Axes>"
      ]
     },
     "metadata": {
      "needs_background": "light"
     }
    }
   ],
   "metadata": {}
  },
  {
   "cell_type": "code",
   "execution_count": 18,
   "source": [
    "#Aparentemente os valores de números de inscritos estão de sobrescrevendo, não encontrei uma solução no stack overflow\r\n",
    "\r\n",
    "fig, ax = plt.subplots(1, 1, figsize=(7, 3.3 * 1.65))\r\n",
    "ax.hist(source_trim[\"ytc_subscribercount\"], range=[0, 3000], bins=150, edgecolor='k')\r\n",
    "ax.set(xlabel='Número de inscritos', ylabel='Quantidade de canais')\r\n",
    "fig.tight_layout()\r\n",
    "sns.despine()\r\n",
    "plt.savefig('Histograma de inscritos por canal - Uma página de largura.pdf')"
   ],
   "outputs": [
    {
     "output_type": "display_data",
     "data": {
      "image/png": "[encoded data removed]",
      "text/plain": [
       "<Figure size 504x392.04 with 1 Axes>"
      ]
     },
     "metadata": {
      "needs_background": "light"
     }
    }
   ],
   "metadata": {}
  },
  {
   "cell_type": "code",
   "execution_count": 20,
   "source": [
    "X2 = np.sort(source_trim[\"ytc_subscribercount\"])\r\n",
    "F2 = np.array(range(source_trim[\"ytc_subscribercount\"].size))/float(source_trim[\"ytc_subscribercount\"].size)\r\n",
    "\r\n",
    "fig, ax = plt.subplots(1, 1, figsize=(3.3 * 1.65, 3.3))\r\n",
    "ax.plot(X2, F2)\r\n",
    "ax.set(xlabel = 'X label',\r\n",
    "       ylabel = 'P[X > x]',\r\n",
    "       xscale = 'log')\r\n",
    "fig.tight_layout()\r\n",
    "sns.despine()\r\n",
    "plt.savefig(\"CDF de inscritos por canal.pdf\")"
   ],
   "outputs": [
    {
     "output_type": "display_data",
     "data": {
      "image/png": "[encoded data removed]",
      "text/plain": [
       "<Figure size 392.04x237.6 with 1 Axes>"
      ]
     },
     "metadata": {
      "needs_background": "light"
     }
    }
   ],
   "metadata": {}
  }
 ],
 "metadata": {
  "orig_nbformat": 4,
  "language_info": {
   "name": "python",
   "version": "3.9.5",
   "mimetype": "text/x-python",
   "codemirror_mode": {
    "name": "ipython",
    "version": 3
   },
   "pygments_lexer": "ipython3",
   "nbconvert_exporter": "python",
   "file_extension": ".py"
  },
  "kernelspec": {
   "name": "python3",
   "display_name": "Python 3.9.5 64-bit"
  },
  "interpreter": {
   "hash": "63fd5069d213b44bf678585dea6b12cceca9941eaf7f819626cde1f2670de90d"
  }
 },
 "nbformat": 4,
 "nbformat_minor": 2
}